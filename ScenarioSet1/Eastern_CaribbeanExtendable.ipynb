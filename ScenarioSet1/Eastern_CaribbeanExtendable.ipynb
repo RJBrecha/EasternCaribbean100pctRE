{
 "cells": [
  {
   "cell_type": "code",
   "execution_count": 1,
   "id": "foreign-library",
   "metadata": {},
   "outputs": [],
   "source": [
    "import pypsa, numpy as np\n",
    "import os\n",
    "import pandas as pd\n",
    "import csv\n",
    "import matplotlib.pyplot as plt"
   ]
  },
  {
   "cell_type": "markdown",
   "id": "voluntary-purpose",
   "metadata": {},
   "source": [
    "Several Eastern Caribbean countries with no storage and no links, three months of hourly periods, with varying loads and generation from VRE \n"
   ]
  },
  {
   "cell_type": "code",
   "execution_count": 2,
   "id": "binary-plasma",
   "metadata": {
    "scrolled": true
   },
   "outputs": [
    {
     "name": "stderr",
     "output_type": "stream",
     "text": [
      "WARNING:pypsa.io:Importing network from PyPSA version v? while current version is v0.22.1. Read the release notes at https://pypsa.readthedocs.io/en/latest/release_notes.html to prepare your network for import.\n",
      "INFO:pypsa.components:Applying weightings to all columns of `snapshot_weightings`\n",
      "INFO:pypsa.io:Imported network Eastern_CaribbeanExtendable_rjb-12mo_v2 has buses, generators, loads\n"
     ]
    }
   ],
   "source": [
    "csv_folder_name =  \"Eastern_CaribbeanExtendable_rjb-12mo_v2/\"\n",
    "network = pypsa.Network(csv_folder_name)\n",
    "scenario = \"Extendable_12mo-highfuelcost/\""
   ]
  },
  {
   "cell_type": "code",
   "execution_count": null,
   "id": "infectious-classroom",
   "metadata": {
    "scrolled": true
   },
   "outputs": [
    {
     "name": "stderr",
     "output_type": "stream",
     "text": [
      "INFO:pypsa.linopf:Prepare linear problem\n",
      "INFO:pypsa.linopf:Total preparation time: 29.38s\n",
      "INFO:pypsa.linopf:Solve linear problem using Glpk solver\n"
     ]
    }
   ],
   "source": [
    "#specify that we consider all snapshots\n",
    "network.lopf(network.snapshots)"
   ]
  },
  {
   "cell_type": "code",
   "execution_count": null,
   "id": "392d21fc",
   "metadata": {},
   "outputs": [],
   "source": [
    "pypsa.Network.export_to_csv_folder(network,scenario)"
   ]
  },
  {
   "cell_type": "code",
   "execution_count": null,
   "id": "starting-disposition",
   "metadata": {
    "scrolled": true
   },
   "outputs": [],
   "source": [
    "#print the load active power (P) consumption\n",
    "network.loads_t.p.plot(figsize = (15,7))"
   ]
  },
  {
   "cell_type": "code",
   "execution_count": null,
   "id": "persistent-tragedy",
   "metadata": {
    "scrolled": true
   },
   "outputs": [],
   "source": [
    "#print the generator active power (P) dispatch\n",
    "network.generators_t.p.plot(figsize = (15,7))\n",
    "network.generators.p_nom_opt"
   ]
  },
  {
   "cell_type": "code",
   "execution_count": null,
   "id": "1284f138",
   "metadata": {},
   "outputs": [],
   "source": [
    "df_cap=pd.DataFrame(network.generators.p_nom_opt)\n",
    "df_cap = df_cap.reset_index()\n",
    "df_cap"
   ]
  },
  {
   "cell_type": "code",
   "execution_count": null,
   "id": "f273f925",
   "metadata": {
    "scrolled": false
   },
   "outputs": [],
   "source": [
    "df_cap.columns = ['name','Capacity']\n",
    "new = df_cap[\"name\"].str.split(\" \", n = 1, expand = True)\n",
    "df_cap[\"Technology\"]= new[1]\n",
    "df_cap['Country']= new[0]\n",
    "df_cap.drop(columns =[\"name\"], inplace = True)\n",
    "df_cap= df_cap.pivot(index = 'Country',columns = 'Technology', values = 'Capacity')\n",
    "df_cap"
   ]
  },
  {
   "cell_type": "code",
   "execution_count": null,
   "id": "bfcda8c9",
   "metadata": {},
   "outputs": [],
   "source": [
    "fig, axs = plt.subplots(figsize=(10, 10))        # Create an empty Matplotlib Figure and Axes\n",
    "df_cap.plot(ax = axs,kind = 'bar', color=['green','black', 'brown', 'red', 'orange','yellow', 'blue'], rot=0,stacked = True)                  # Use pandas to put the area plot on the prepared Figure/Axes\n",
    "axs.set_title(\"Capacity by Technology and Country\",fontsize=24)\n",
    "axs.set_ylabel(\"Capacity [MW]\",fontsize=20)          # Do any Matplotlib customization you like\n",
    "axs.set_xlabel(fontsize=20)\n",
    "fig.savefig(scenario+\"capacity.png\", bbox_inches='tight')  "
   ]
  },
  {
   "cell_type": "code",
   "execution_count": null,
   "id": "e69bd00d",
   "metadata": {},
   "outputs": [],
   "source": [
    "df_cap_scaled = df_cap.div(df_cap.sum(axis=1), axis=0)*100\n",
    "df_cap_scaled"
   ]
  },
  {
   "cell_type": "code",
   "execution_count": null,
   "id": "e09a6b1b",
   "metadata": {},
   "outputs": [],
   "source": [
    "fig, axs = plt.subplots(figsize=(10, 10))        # Create an empty Matplotlib Figure and Axes\n",
    "df_cap_scaled.plot(ax = axs,kind = 'bar', color=['green','black', 'brown', 'red', 'orange','yellow', 'blue'], rot=0,stacked = True)                  # Use pandas to put the area plot on the prepared Figure/Axes\n",
    "axs.set_title(\"Scaled Capacity by Technology and Country\",fontsize=24)\n",
    "axs.set_ylabel(\"Scaled Capacity [%]\",fontsize=20)          # Do any Matplotlib customization you like\n",
    "axs.set_xlabel(fontsize=20)\n",
    "axs.legend(bbox_to_anchor=(1.05, 1.0), loc='upper left')\n",
    "fig.savefig(scenario+\"scaled_capacity.png\", bbox_inches='tight') "
   ]
  },
  {
   "cell_type": "code",
   "execution_count": null,
   "id": "e65bc075",
   "metadata": {},
   "outputs": [],
   "source": [
    "(network.generators.p_nom_opt*network.generators.capital_cost)"
   ]
  },
  {
   "cell_type": "code",
   "execution_count": null,
   "id": "7aba9d63",
   "metadata": {
    "scrolled": false
   },
   "outputs": [],
   "source": [
    "df_cost=pd.DataFrame((network.generators.p_nom_opt*network.generators.capital_cost)+(network.generators_t.p.sum()* network.generators.marginal_cost))\n",
    "df_cost.columns = ['cost']\n",
    "df_cost = df_cost.reset_index()\n",
    "df_cost"
   ]
  },
  {
   "cell_type": "code",
   "execution_count": null,
   "id": "77d3e2dc",
   "metadata": {
    "scrolled": true
   },
   "outputs": [],
   "source": [
    "new1 = df_cost[\"name\"].str.split(\" \", n = 1, expand = True)\n",
    "df_cost[\"Technology\"]= new[1]\n",
    "df_cost['Country']= new[0]\n",
    "df_cost.drop(columns =[\"name\"], inplace = True)\n",
    "df_cost= df_cost.pivot(index = 'Country',columns = 'Technology', values = 'cost')\n",
    "df_cost"
   ]
  },
  {
   "cell_type": "code",
   "execution_count": null,
   "id": "3312a8b2",
   "metadata": {},
   "outputs": [],
   "source": [
    "df_cost.sum(axis=1)"
   ]
  },
  {
   "cell_type": "code",
   "execution_count": null,
   "id": "b32e8def",
   "metadata": {},
   "outputs": [],
   "source": [
    "network.generators_t.p.sum()"
   ]
  },
  {
   "cell_type": "code",
   "execution_count": null,
   "id": "a8d535e5",
   "metadata": {},
   "outputs": [],
   "source": [
    "network.generators_t.p.sum().sum()"
   ]
  },
  {
   "cell_type": "code",
   "execution_count": null,
   "id": "0e869ae8",
   "metadata": {},
   "outputs": [],
   "source": [
    "df_gen=pd.DataFrame(network.generators_t.p.sum()/1000)\n",
    "df_gen = df_gen.reset_index()\n",
    "df_gen.columns = ['name','Electricity']\n",
    "new = df_gen[\"name\"].str.split(\" \", n = 1, expand = True)\n",
    "df_gen[\"Technology\"]= new[1]\n",
    "df_gen['Country']= new[0]\n",
    "df_gen.drop(columns =[\"name\"], inplace = True)\n",
    "df_gen= df_gen.pivot(index = 'Country',columns = 'Technology', values = 'Electricity')"
   ]
  },
  {
   "cell_type": "code",
   "execution_count": null,
   "id": "651eb8cc",
   "metadata": {},
   "outputs": [],
   "source": [
    "df_gen"
   ]
  },
  {
   "cell_type": "code",
   "execution_count": null,
   "id": "7abf27a0",
   "metadata": {},
   "outputs": [],
   "source": [
    "df_cost.sum(axis=1)/df_gen.sum(axis=1)/1000"
   ]
  },
  {
   "cell_type": "code",
   "execution_count": null,
   "id": "edea0994",
   "metadata": {},
   "outputs": [],
   "source": [
    "#ax3 = df_gen.plot.bar(rot=0,stacked = True)\n",
    "fig, axs = plt.subplots(figsize=(10, 10))        # Create an empty Matplotlib Figure and Axes\n",
    "df_gen.plot(ax = axs,kind = 'bar', color=['green','black', 'brown', 'red', 'orange','yellow', 'blue'], rot=0,stacked = True)                  # Use pandas to put the area plot on the prepared Figure/Axes\n",
    "axs.set_title(\"Generation by Technology and Country\",fontsize=24)\n",
    "axs.set_ylabel(\"Generation [GWh]\",fontsize=20)          # Do any Matplotlib customization you like\n",
    "axs.set_xlabel(fontsize=20) \n",
    "fig.savefig(scenario+\"generation.png\", bbox_inches='tight') "
   ]
  },
  {
   "cell_type": "code",
   "execution_count": null,
   "id": "be40354c",
   "metadata": {},
   "outputs": [],
   "source": [
    "df_gen_scaled = df_gen.div(df_gen.sum(axis=1), axis=0)*100"
   ]
  },
  {
   "cell_type": "code",
   "execution_count": null,
   "id": "68c01500",
   "metadata": {},
   "outputs": [],
   "source": [
    "#ax4 = df_gen_scaled.plot.bar(rot=0,stacked = True)\n",
    "#ax4.legend(bbox_to_anchor=(1.05, 1.0), loc='upper left')\n",
    "fig, axs = plt.subplots(figsize=(10, 10))        # Create an empty Matplotlib Figure and Axes\n",
    "df_gen_scaled.plot(ax = axs,kind = 'bar', color=['green','black', 'brown', 'red', 'orange','yellow', 'blue'], rot=0,stacked = True)                  # Use pandas to put the area plot on the prepared Figure/Axes\n",
    "axs.set_title(\"Scaled Generation by Technology and Country\",fontsize=24)\n",
    "axs.set_ylabel(\"Scaled Generation [%]\",fontsize=20)          # Do any Matplotlib customization you like\n",
    "axs.set_xlabel(fontsize=20)  \n",
    "axs.legend(bbox_to_anchor=(1.05, 1.0), loc='upper left')\n",
    "fig.savefig(scenario+\"scaled_generation.png\", bbox_inches='tight') "
   ]
  },
  {
   "cell_type": "code",
   "execution_count": null,
   "id": "18556323",
   "metadata": {
    "scrolled": true
   },
   "outputs": [],
   "source": [
    "diesel_total = df_gen.diesel.sum()\n",
    "diesel_total"
   ]
  },
  {
   "cell_type": "code",
   "execution_count": null,
   "id": "85fc392c",
   "metadata": {},
   "outputs": [],
   "source": [
    "fuel_oil_total = df_gen[df_gen.index.str.contains(\"fuel\")]"
   ]
  },
  {
   "cell_type": "code",
   "execution_count": null,
   "id": "5d44129e",
   "metadata": {},
   "outputs": [],
   "source": [
    "Total_fossil_fuel_generation =diesel_total.sum()+fuel_oil_total.sum()\n",
    "#Total_fossil_fuel_generation/1000"
   ]
  },
  {
   "cell_type": "code",
   "execution_count": null,
   "id": "13bade39",
   "metadata": {},
   "outputs": [],
   "source": [
    "carbon_price = 50 #USD/tonneCO2\n",
    "carbon_intensity = 0.63 #tonneCO2/MWh\n",
    "carbon_price*carbon_intensity #USD/MWh"
   ]
  },
  {
   "cell_type": "code",
   "execution_count": null,
   "id": "a134ecfd",
   "metadata": {},
   "outputs": [],
   "source": [
    "carbon_cost = Total_fossil_fuel_generation*carbon_intensity*carbon_price"
   ]
  },
  {
   "cell_type": "code",
   "execution_count": null,
   "id": "3a9a4e4c",
   "metadata": {},
   "outputs": [],
   "source": [
    "((network.generators.p_nom_opt*network.generators.capital_cost).sum()+(network.generators_t.p.sum()*network.generators.marginal_cost).sum()).sum()/(network.loads_t.p_set.sum()).sum()"
   ]
  },
  {
   "cell_type": "code",
   "execution_count": null,
   "id": "4b4028ee",
   "metadata": {},
   "outputs": [],
   "source": [
    "((network.generators.p_nom_opt*network.generators.capital_cost).sum()+(network.generators_t.p.sum()*network.generators.marginal_cost).sum()).sum()/(network.loads_t.p_set.sum().sum())"
   ]
  },
  {
   "cell_type": "code",
   "execution_count": null,
   "id": "destroyed-accordance",
   "metadata": {},
   "outputs": [],
   "source": [
    "#print the clearing price \n",
    "network.buses_t.marginal_price.plot(figsize = (15,7))"
   ]
  }
 ],
 "metadata": {
  "kernelspec": {
   "display_name": "Python 3 (ipykernel)",
   "language": "python",
   "name": "python3"
  },
  "language_info": {
   "codemirror_mode": {
    "name": "ipython",
    "version": 3
   },
   "file_extension": ".py",
   "mimetype": "text/x-python",
   "name": "python",
   "nbconvert_exporter": "python",
   "pygments_lexer": "ipython3",
   "version": "3.9.16"
  }
 },
 "nbformat": 4,
 "nbformat_minor": 5
}
