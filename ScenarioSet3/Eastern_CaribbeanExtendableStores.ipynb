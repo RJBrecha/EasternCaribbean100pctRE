{
 "cells": [
  {
   "cell_type": "code",
   "execution_count": 1,
   "id": "foreign-library",
   "metadata": {},
   "outputs": [],
   "source": [
    "import pypsa, numpy as np\n",
    "import os\n",
    "import pandas as pd\n",
    "import csv\n",
    "import matplotlib.pyplot as plt\n",
    "#import highspy"
   ]
  },
  {
   "cell_type": "markdown",
   "id": "voluntary-purpose",
   "metadata": {},
   "source": [
    "Several Eastern Caribbean countries with only storage and no links, one year of hourly periods, with varying loads and generation from VRE \n",
    "\n"
   ]
  },
  {
   "cell_type": "code",
   "execution_count": 2,
   "id": "binary-plasma",
   "metadata": {},
   "outputs": [
    {
     "name": "stderr",
     "output_type": "stream",
     "text": [
      "WARNING:pypsa.io:Importing network from PyPSA version v? while current version is v0.22.1. Read the release notes at https://pypsa.readthedocs.io/en/latest/release_notes.html to prepare your network for import.\n",
      "INFO:pypsa.components:Applying weightings to all columns of `snapshot_weightings`\n",
      "INFO:pypsa.io:Imported network Eastern_CaribbeanExtendableStores_rjb-12mo_v2 has buses, generators, links, loads, stores\n"
     ]
    }
   ],
   "source": [
    "csv_folder_name =  \"Eastern_CaribbeanExtendableStores_rjb-12mo_v2/\"\n",
    "network = pypsa.Network(csv_folder_name)\n",
    "scenario = \"Stores_12mo-highbattcost/\""
   ]
  },
  {
   "cell_type": "code",
   "execution_count": null,
   "id": "infectious-classroom",
   "metadata": {
    "scrolled": true
   },
   "outputs": [
    {
     "name": "stderr",
     "output_type": "stream",
     "text": [
      "INFO:pypsa.opf:Performed preliminary steps\n",
      "INFO:pypsa.opf:Building pyomo model using `kirchhoff` formulation\n",
      "INFO:pypsa.opf:Solving model using glpk\n"
     ]
    }
   ],
   "source": [
    "#specify that we consider all snapshots\n",
    "network.lopf(network.snapshots,pyomo=\"True\")"
   ]
  },
  {
   "cell_type": "code",
   "execution_count": null,
   "id": "392d21fc",
   "metadata": {},
   "outputs": [],
   "source": [
    "pypsa.Network.export_to_csv_folder(network,scenario)"
   ]
  },
  {
   "cell_type": "code",
   "execution_count": null,
   "id": "starting-disposition",
   "metadata": {},
   "outputs": [],
   "source": [
    "#print the load active power (P) consumption\n",
    "network.loads_t.p.plot(figsize = (15,7))"
   ]
  },
  {
   "cell_type": "code",
   "execution_count": null,
   "id": "persistent-tragedy",
   "metadata": {},
   "outputs": [],
   "source": [
    "#print the generator active power (P) dispatch\n",
    "network.generators_t.p.plot(figsize = (15,7))\n",
    "network.generators.p_nom_opt"
   ]
  },
  {
   "cell_type": "code",
   "execution_count": null,
   "id": "b3977bcc",
   "metadata": {},
   "outputs": [],
   "source": [
    "df_cap=pd.DataFrame(network.generators.p_nom_opt)\n",
    "df_cap = df_cap.reset_index()"
   ]
  },
  {
   "cell_type": "code",
   "execution_count": null,
   "id": "da6bcc8a",
   "metadata": {},
   "outputs": [],
   "source": [
    "df_cap.columns = ['name','Capacity']\n",
    "new = df_cap[\"name\"].str.split(\" \", n = 1, expand = True)\n",
    "df_cap[\"Technology\"]= new[1]\n",
    "df_cap['Country']= new[0]\n",
    "df_cap.drop(columns =[\"name\"], inplace = True)\n",
    "df_cap= df_cap.pivot(index = 'Country',columns = 'Technology', values = 'Capacity')\n",
    "df_cap"
   ]
  },
  {
   "cell_type": "code",
   "execution_count": null,
   "id": "9172d8fb",
   "metadata": {},
   "outputs": [],
   "source": [
    "fig, axs = plt.subplots(figsize=(10, 10))        # Create an empty Matplotlib Figure and Axes\n",
    "df_cap.plot(ax = axs,kind = 'bar', color=['green','black', 'brown', 'red', 'orange','yellow', 'blue'], rot=0,stacked = True)                  # Use pandas to put the area plot on the prepared Figure/Axes\n",
    "axs.set_title(\"Capacity by Technology and Country\",fontsize=24)\n",
    "axs.set_ylabel(\"Capacity [MW]\",fontsize=20)          # Do any Matplotlib customization you like\n",
    "axs.set_ylabel(\"Country\",fontsize=20) \n",
    "fig.savefig(scenario+\"capacity.png\", bbox_inches='tight')  "
   ]
  },
  {
   "cell_type": "code",
   "execution_count": null,
   "id": "811e2f63",
   "metadata": {},
   "outputs": [],
   "source": [
    "df_cap_scaled = df_cap.div(df_cap.sum(axis=1), axis=0)*100\n",
    "df_cap_scaled"
   ]
  },
  {
   "cell_type": "code",
   "execution_count": null,
   "id": "86a58e25",
   "metadata": {},
   "outputs": [],
   "source": [
    "fig, axs = plt.subplots(figsize=(10, 10))        # Create an empty Matplotlib Figure and Axes\n",
    "df_cap_scaled.plot(ax = axs,kind = 'bar', color=['green','black', 'brown', 'red', 'orange','yellow', 'blue'], rot=0,stacked = True)                  # Use pandas to put the area plot on the prepared Figure/Axes\n",
    "axs.set_title(\"Scaled Capacity by Technology and Country\",fontsize=24)\n",
    "axs.set_ylabel(\"Scaled Capacity [%]\",fontsize=20)          # Do any Matplotlib customization you like\n",
    "axs.set_ylabel(\"Country\",fontsize=20) \n",
    "axs.legend(bbox_to_anchor=(1.05, 1.0), loc='upper left')\n",
    "fig.savefig(scenario+\"scaled_capacity.png\", bbox_inches='tight')"
   ]
  },
  {
   "cell_type": "code",
   "execution_count": null,
   "id": "bf81bf29",
   "metadata": {},
   "outputs": [],
   "source": [
    "#network.storage_units.p_nom_opt\n",
    "network.stores.e_nom_opt"
   ]
  },
  {
   "cell_type": "code",
   "execution_count": null,
   "id": "4ff5dbb8",
   "metadata": {},
   "outputs": [],
   "source": [
    "network.stores.capital_cost"
   ]
  },
  {
   "cell_type": "code",
   "execution_count": null,
   "id": "8aa1041a",
   "metadata": {},
   "outputs": [],
   "source": [
    "network.stores.e_nom_opt*network.stores.capital_cost"
   ]
  },
  {
   "cell_type": "code",
   "execution_count": null,
   "id": "e65bc075",
   "metadata": {},
   "outputs": [],
   "source": [
    "(network.generators.p_nom_opt*network.generators.capital_cost).sum()"
   ]
  },
  {
   "cell_type": "code",
   "execution_count": null,
   "id": "7aba9d63",
   "metadata": {},
   "outputs": [],
   "source": [
    "(network.generators_t.p.sum()*network.generators.marginal_cost).sum()"
   ]
  },
  {
   "cell_type": "code",
   "execution_count": null,
   "id": "0e869ae8",
   "metadata": {},
   "outputs": [],
   "source": [
    "(network.generators_t.p.sum()).sum()"
   ]
  },
  {
   "cell_type": "code",
   "execution_count": null,
   "id": "a830301d",
   "metadata": {
    "scrolled": true
   },
   "outputs": [],
   "source": [
    "network.generators_t.p.sum()"
   ]
  },
  {
   "cell_type": "code",
   "execution_count": null,
   "id": "708d453e",
   "metadata": {
    "scrolled": true
   },
   "outputs": [],
   "source": [
    "df_storage_cost = pd.DataFrame(network.stores.e_nom_opt*network.stores.capital_cost)\n",
    "df_storage_cost.columns = ['storage_cost']\n",
    "df_storage_cost = df_storage_cost.reset_index()\n",
    "df_storage_cost"
   ]
  },
  {
   "cell_type": "code",
   "execution_count": null,
   "id": "b1cf7138",
   "metadata": {
    "scrolled": true
   },
   "outputs": [],
   "source": [
    "new = df_storage_cost[\"name\"].str.split(\" \", n = 1, expand = True)\n",
    "df_storage_cost[\"Tech\"]= new[1]\n",
    "df_storage_cost['Country']= new[0]\n",
    "df_storage_cost.drop(columns =[\"name\"], inplace = True)\n",
    "df_storage_cost= df_storage_cost.pivot(index = 'Country',columns = 'Tech', values = 'storage_cost')\n",
    "df_storage_cost "
   ]
  },
  {
   "cell_type": "code",
   "execution_count": null,
   "id": "086d1941",
   "metadata": {
    "scrolled": false
   },
   "outputs": [],
   "source": [
    "df_cost=pd.DataFrame((network.generators.p_nom_opt*network.generators.capital_cost)+(network.generators_t.p.sum()*network.generators.marginal_cost))\n",
    "df_cost.columns = ['generator_cost']\n",
    "df_cost = df_cost.reset_index()\n",
    "#df_cost"
   ]
  },
  {
   "cell_type": "code",
   "execution_count": null,
   "id": "d7caefb1",
   "metadata": {},
   "outputs": [],
   "source": [
    "new1 = df_cost[\"name\"].str.split(\" \", n = 1, expand = True)\n",
    "df_cost[\"Technology\"]= new1[1]\n",
    "df_cost['Country']= new1[0]\n",
    "df_cost.drop(columns =[\"name\"], inplace = True)\n",
    "df_cost = df_cost.pivot(index = 'Country',columns = 'Technology', values = 'generator_cost')\n",
    "#extracted_col = pd.DataFrame(df_storage_cost['storage_cost'])\n",
    "#extracted_col\n",
    "df_cost = df_cost.join(df_storage_cost['Storage'])\n",
    "df_cost\n"
   ]
  },
  {
   "cell_type": "code",
   "execution_count": null,
   "id": "3043ade8",
   "metadata": {},
   "outputs": [],
   "source": [
    "df_gen=pd.DataFrame(network.generators_t.p.sum()/1000)\n",
    "df_gen = df_gen.reset_index()\n",
    "df_gen.columns = ['name','Electricity']\n",
    "new = df_gen[\"name\"].str.split(\" \", n = 1, expand = True)\n",
    "df_gen[\"Technology\"]= new[1]\n",
    "df_gen['Country']= new[0]\n",
    "df_gen.drop(columns =[\"name\"], inplace = True)\n",
    "df_gen= df_gen.pivot(index = 'Country',columns = 'Technology', values = 'Electricity')\n",
    "df_gen"
   ]
  },
  {
   "cell_type": "code",
   "execution_count": null,
   "id": "991da7a2",
   "metadata": {},
   "outputs": [],
   "source": [
    "df_cost.sum(axis=1)/df_gen.sum(axis=1)/1000"
   ]
  },
  {
   "cell_type": "code",
   "execution_count": null,
   "id": "e48824e3",
   "metadata": {},
   "outputs": [],
   "source": [
    "fig, axs = plt.subplots(figsize=(10, 10))        # Create an empty Matplotlib Figure and Axes\n",
    "df_gen.plot(ax = axs,kind = 'bar', color=['green','black', 'brown', 'red', 'orange','yellow', 'blue'], rot=0,stacked = True)                  # Use pandas to put the area plot on the prepared Figure/Axes\n",
    "axs.set_title(\"Generation by Technology and Country\",fontsize=24)\n",
    "axs.set_ylabel(\"Generation [GWh]\",fontsize=20)          # Do any Matplotlib customization you like\n",
    "axs.set_ylabel(\"Country\",fontsize=20) \n",
    "fig.savefig(scenario+\"generation.png\", bbox_inches='tight') "
   ]
  },
  {
   "cell_type": "code",
   "execution_count": null,
   "id": "7b8ffd6b",
   "metadata": {},
   "outputs": [],
   "source": [
    "df_gen_scaled = df_gen.div(df_gen.sum(axis=1), axis=0)*100"
   ]
  },
  {
   "cell_type": "code",
   "execution_count": null,
   "id": "f1f5f6c9",
   "metadata": {},
   "outputs": [],
   "source": [
    "fig, axs = plt.subplots(figsize=(10, 10))        # Create an empty Matplotlib Figure and Axes\n",
    "df_gen_scaled.plot(ax = axs,kind = 'bar', color=['green','black', 'brown', 'red', 'orange','yellow', 'blue'], rot=0,stacked = True)                  # Use pandas to put the area plot on the prepared Figure/Axes\n",
    "axs.set_title(\"Scaled Generation by Technology and Country\",fontsize=24)\n",
    "axs.set_ylabel(\"Scaled Generation [%]\",fontsize=20)          # Do any Matplotlib customization you like\n",
    "axs.set_ylabel(\"Country\",fontsize=20)  \n",
    "axs.legend(bbox_to_anchor=(1.05, 1.0), loc='upper left')\n",
    "fig.savefig(scenario+\"scaled_generation.png\", bbox_inches='tight') "
   ]
  },
  {
   "cell_type": "code",
   "execution_count": null,
   "id": "03666483",
   "metadata": {},
   "outputs": [],
   "source": [
    "network.generators_t.p.sum()/(network.generators_t.p.sum()).sum()"
   ]
  },
  {
   "cell_type": "code",
   "execution_count": null,
   "id": "8bc8a02f",
   "metadata": {},
   "outputs": [],
   "source": [
    "network.generators_t.p.sum()/(network.generators.p_nom_opt*8760)"
   ]
  },
  {
   "cell_type": "code",
   "execution_count": null,
   "id": "3a9a4e4c",
   "metadata": {},
   "outputs": [],
   "source": [
    "((network.generators.p_nom_opt*network.generators.capital_cost).sum()+(network.generators_t.p.sum()*network.generators.marginal_cost).sum()+(network.stores.e_nom_opt*network.stores.capital_cost).sum()).sum()/(network.loads_t.p_set.sum()).sum()"
   ]
  },
  {
   "cell_type": "code",
   "execution_count": null,
   "id": "f6348bda",
   "metadata": {},
   "outputs": [],
   "source": [
    "((network.generators.p_nom_opt*network.generators.capital_cost).sum()+(network.generators_t.p.sum()*network.generators.marginal_cost).sum()+(network.stores.e_nom_opt*network.stores.capital_cost).sum())/network.loads_t.p_set.sum()"
   ]
  },
  {
   "cell_type": "code",
   "execution_count": null,
   "id": "found-mileage",
   "metadata": {},
   "outputs": [],
   "source": [
    "#print storage units\n",
    "network.stores_t.e.plot(figsize = (15,7))\n",
    "\n"
   ]
  }
 ],
 "metadata": {
  "kernelspec": {
   "display_name": "Python 3 (ipykernel)",
   "language": "python",
   "name": "python3"
  },
  "language_info": {
   "codemirror_mode": {
    "name": "ipython",
    "version": 3
   },
   "file_extension": ".py",
   "mimetype": "text/x-python",
   "name": "python",
   "nbconvert_exporter": "python",
   "pygments_lexer": "ipython3",
   "version": "3.9.16"
  }
 },
 "nbformat": 4,
 "nbformat_minor": 5
}
